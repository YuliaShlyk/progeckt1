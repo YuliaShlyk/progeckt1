{
  "nbformat": 4,
  "nbformat_minor": 0,
  "metadata": {
    "colab": {
      "provenance": []
    },
    "kernelspec": {
      "name": "python3",
      "display_name": "Python 3"
    },
    "language_info": {
      "name": "python"
    }
  },
  "cells": [
    {
      "cell_type": "code",
      "source": [
        "# Задание А. ВАРИАНТ 1\n",
        "def remove_exclamation_marks(s1):\n",
        " s1 = 'Hi!!!!!! Yulia!!!!!'\n",
        " return s1.replace(\"!\",\" \")\n",
        "\n",
        "remove_exclamation_marks(s1)\n",
        "print(remove_exclamation_marks(s1))"
      ],
      "metadata": {
        "colab": {
          "base_uri": "https://localhost:8080/"
        },
        "id": "2fFoii732L8l",
        "outputId": "7ac223e6-ab66-45cb-d72e-5f398d266904"
      },
      "execution_count": null,
      "outputs": [
        {
          "output_type": "stream",
          "name": "stdout",
          "text": [
            "Hi       Yulia     \n"
          ]
        }
      ]
    },
    {
      "cell_type": "code",
      "source": [
        "# Задание А. ВАРИАНТ 2\n",
        "def remove_exclamation_marks(str):\n",
        " str = 'Hi!!!!!! Yulia!!!!!'\n",
        " return str.translate({ord(i): None for i in '!'})\n",
        "\n",
        "remove_exclamation_marks(str)\n",
        "print(remove_exclamation_marks(str))"
      ],
      "metadata": {
        "colab": {
          "base_uri": "https://localhost:8080/"
        },
        "id": "ImMQ7wK2qUxf",
        "outputId": "da72bcc4-9ecc-4b20-a59e-96ee311587c3"
      },
      "execution_count": 2,
      "outputs": [
        {
          "output_type": "stream",
          "name": "stdout",
          "text": [
            "Hi Yulia\n"
          ]
        }
      ]
    },
    {
      "cell_type": "code",
      "source": [
        "# Задание B\n",
        "s3='!Hi'\n",
        "def remove_last_em(s3):\n",
        " if s3[-1]=='!':\n",
        "  return s3[:-1]\n",
        "  print(remove_last_em(s3))\n",
        " else:\n",
        "    print(s3)\n",
        "remove_last_em(s3)"
      ],
      "metadata": {
        "colab": {
          "base_uri": "https://localhost:8080/"
        },
        "id": "NF3ltRid31B0",
        "outputId": "b810e3a9-8f06-4489-b643-bfc26dc7631d"
      },
      "execution_count": null,
      "outputs": [
        {
          "output_type": "stream",
          "name": "stdout",
          "text": [
            "!Hi\n"
          ]
        }
      ]
    },
    {
      "cell_type": "code",
      "source": [
        "# Задание C\n",
        "# s4=\"Hi!\"\n",
        "# s4=\"Hi! Hi!\"\n",
        "# s4=\"Hi! Hi! Hi!\"\n",
        "# s4=\"Hi Hi! Hi!\"\n",
        "# s4=\"Hi! !Hi Hi!\"\n",
        "s4=\"Hi! Hi!! Hi!\"\n",
        "# s4=\"Hi! !Hi! Hi!\"\n",
        "def remove_word_with_one_em(s4):\n",
        " return ' '.join([word for word in s4.split(' ') if len(word)!=3])\n",
        "\n",
        "\n",
        "remove_word_with_one_em(s4)\n",
        "print(remove_word_with_one_em(s4))"
      ],
      "metadata": {
        "colab": {
          "base_uri": "https://localhost:8080/"
        },
        "id": "RnLN3utAAh7h",
        "outputId": "684fbaa8-3df1-46fd-f8c8-bde168b831c0"
      },
      "execution_count": 3,
      "outputs": [
        {
          "output_type": "stream",
          "name": "stdout",
          "text": [
            "Hi!!\n"
          ]
        }
      ]
    }
  ]
}