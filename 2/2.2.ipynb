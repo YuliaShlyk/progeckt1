{
  "nbformat": 4,
  "nbformat_minor": 0,
  "metadata": {
    "colab": {
      "provenance": []
    },
    "kernelspec": {
      "name": "python3",
      "display_name": "Python 3"
    },
    "language_info": {
      "name": "python"
    }
  },
  "cells": [
    {
      "cell_type": "code",
      "source": [
        "import datetime, calendar\n",
        "month=input('Введите месяц  ')\n",
        "def mesac(month):\n",
        " while month.isdigit()==False or int(month)>12 or int(month)==0:\n",
        "       print('Вы ввели текс или не целое число или отрицательное или знаки или больше 12 или ноль')\n",
        "       month=input('Введите месяц еще раз ')\n",
        " else:\n",
        "  mes = {\n",
        "    '1':'Январь',\n",
        "    '2':'Февраль',\n",
        "    '3':'март',\n",
        "    '4':'апрель',\n",
        "    '5':'май',\n",
        "    '6':'июнь',\n",
        "    '7':'июль',\n",
        "    '8':'август',\n",
        "    '9':'сентябрь',\n",
        "   '10':'октябрь',\n",
        "   '11':'ноябрь',\n",
        "   '12':'декабрь',\n",
        "                 }\n",
        " return mes[month]\n",
        "mesac(month)\n",
        "def qvart(q):\n",
        " q = {\n",
        "    'Январь':'1',\n",
        "    'Февраль':'1',\n",
        "    'март':'1',\n",
        "    'апрель':'2',\n",
        "    'май':'2',\n",
        "    'июнь':'2',\n",
        "    'июль':'3',\n",
        "    'август':'3',\n",
        "    'сентябрь':'3',\n",
        "    'октябрь':'4',\n",
        "    'ноябрь':'4',\n",
        "    'декабрь':'4',\n",
        "                 }\n",
        " return q[mesac(month)] # вывожу квартал года\n",
        "qvart(q)\n",
        "print('месяц' , month, '(',mesac(month),')', 'является частью', q[mesac(month)] , 'квартала.')\n",
        "\n",
        "\n"
      ],
      "metadata": {
        "colab": {
          "base_uri": "https://localhost:8080/"
        },
        "id": "fMw51sO9IcXY",
        "outputId": "873e15b0-2aeb-41fa-8523-4707badf7e07"
      },
      "execution_count": 21,
      "outputs": [
        {
          "output_type": "stream",
          "name": "stdout",
          "text": [
            "Введите месяц  3\n",
            "месяц 3 ( март ) является частью 1 квартала.\n"
          ]
        }
      ]
    }
  ]
}