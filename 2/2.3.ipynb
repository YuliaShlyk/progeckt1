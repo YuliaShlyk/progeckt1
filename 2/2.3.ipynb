{
  "nbformat": 4,
  "nbformat_minor": 0,
  "metadata": {
    "colab": {
      "provenance": []
    },
    "kernelspec": {
      "name": "python3",
      "display_name": "Python 3"
    },
    "language_info": {
      "name": "python"
    }
  },
  "cells": [
    {
      "cell_type": "code",
      "source": [
        "number=input('Введите цифру от 0 до 9  ')\n",
        "def switch_it_up(number):\n",
        "  List = {\n",
        "     '0':'Zero',\n",
        "      '1':'One',\n",
        "      '2':'Two',\n",
        "      '3':'Three',\n",
        "      '4':'Four',\n",
        "      '5':'Five',\n",
        "      '6':'Six',\n",
        "      '7':'Seven',\n",
        "      '8':'Eight',\n",
        "      '9':'Nine',\n",
        "                    }\n",
        "  a=List[number]\n",
        "  print('Вы ввели', number,'-',a)\n",
        "\n",
        "switch_it_up(number)"
      ],
      "metadata": {
        "colab": {
          "base_uri": "https://localhost:8080/"
        },
        "id": "qdjllWj3G5FG",
        "outputId": "e3886240-37ef-4158-856b-c3150e9a3ec5"
      },
      "execution_count": 31,
      "outputs": [
        {
          "output_type": "stream",
          "name": "stdout",
          "text": [
            "Введите цифру от 0 до 9  3\n",
            "Вы ввели 3 - Three\n"
          ]
        }
      ]
    }
  ]
}