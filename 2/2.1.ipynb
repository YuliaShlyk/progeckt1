{
  "nbformat": 4,
  "nbformat_minor": 0,
  "metadata": {
    "colab": {
      "provenance": []
    },
    "kernelspec": {
      "name": "python3",
      "display_name": "Python 3"
    },
    "language_info": {
      "name": "python"
    }
  },
  "cells": [
    {
      "cell_type": "code",
      "execution_count": 30,
      "metadata": {
        "colab": {
          "base_uri": "https://localhost:8080/"
        },
        "id": "XslPiG2_5qVK",
        "outputId": "105ff113-9fd4-4a55-f114-ac7d82a824f5"
      },
      "outputs": [
        {
          "output_type": "stream",
          "name": "stdout",
          "text": [
            "был массив [-81, 66, 24, -76, 7, -79, 44, 41, -61, -71]\n",
            "стал массив [-81, -79, -76, -71, -61, 7, 24, 41, 44, 66]\n",
            "Минимальное значение= -81\n",
            "Максимальное значение=  66\n"
          ]
        }
      ],
      "source": [
        "from random import randint\n",
        "n=10\n",
        "data=[]\n",
        "for i in range(n):\n",
        "    data.append(randint(-100,100))\n",
        "print('был массив', data)\n",
        "\n",
        "def insertion(data):\n",
        "  for i in range(len(data)):\n",
        "    j=i-1\n",
        "    val=data[i]\n",
        "    while data[j]>val and j>=0:\n",
        "      data[j+1]=data[j]\n",
        "      j-=1\n",
        "      data[j+1]=val\n",
        "  return data\n",
        " \n",
        "insertion(data)\n",
        "print('стал массив', data)\n",
        "\n",
        "print('Минимальное значение=', insertion(data)[0])\n",
        "print('Максимальное значение= ', insertion(data)[len(data)-1] )\n",
        "  "
      ]
    }
  ]
}