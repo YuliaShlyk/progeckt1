{
  "nbformat": 4,
  "nbformat_minor": 0,
  "metadata": {
    "colab": {
      "provenance": []
    },
    "kernelspec": {
      "name": "python3",
      "display_name": "Python 3"
    },
    "language_info": {
      "name": "python"
    }
  },
  "cells": [
    {
      "cell_type": "code",
      "source": [
        "# Задача 3.1.\n",
        "# Создаю функцию, которая рандомно создает n цифр\n",
        "def randomaizer():\n",
        " from random import randint\n",
        " n=10  # число цифр в строке\n",
        " rand_list=[]\n",
        " for i in range(n):\n",
        "   rand_list.append(randint(10,99))\n",
        " return rand_list\n",
        "\n"
      ],
      "metadata": {
        "id": "vNxCxLK6VZch"
      },
      "execution_count": 43,
      "outputs": []
    },
    {
      "cell_type": "code",
      "source": [
        "A1=randomaizer()\n",
        "A2=randomaizer()\n",
        "A3=randomaizer()\n",
        "print(\"A1= \",A1)\n",
        "print(\"A2= \",A2)\n",
        "print(\"A3= \",A3)\n",
        "\n",
        "print('число колонок = ',10)\n",
        "print('число строк = ',3)\n",
        "\n",
        "# Замена значения из списка с помощью индексации\n",
        "A1[0]=65\n",
        "print(\"Замена значения из списка с помощью индексации\")\n",
        "print(\"Новое A1= \", A1)\n",
        "\n",
        "# Добавление элемента вконец списка\n",
        "A2.append(15)\n",
        "print(\"Добавление элемента вконец списка\")\n",
        "print(\"Новое A2= \", A2)\n",
        "\n",
        "# Удаление элемента с помощью индексации\n",
        "A3.pop(0)\n",
        "print(\"Удаление элемента с помощью индексации\")\n",
        "print(\"Новое A3= \", A3)"
      ],
      "metadata": {
        "colab": {
          "base_uri": "https://localhost:8080/"
        },
        "id": "-1ATgGLyl8Xu",
        "outputId": "315ed30d-21e4-4f51-9158-d724969d01ab"
      },
      "execution_count": 57,
      "outputs": [
        {
          "output_type": "stream",
          "name": "stdout",
          "text": [
            "A1=  [87, 31, 29, 72, 91, 17, 85, 80, 47, 78]\n",
            "A2=  [65, 91, 90, 20, 85, 93, 86, 29, 41, 67]\n",
            "A3=  [81, 93, 42, 82, 54, 82, 85, 69, 13, 16]\n",
            "число колонок =  10\n",
            "число строк =  3\n",
            "Замена значения из списка с помощью индексации\n",
            "Новое A1=  [65, 31, 29, 72, 91, 17, 85, 80, 47, 78]\n",
            "Добавление элемента вконец списка\n",
            "Новое A2=  [65, 91, 90, 20, 85, 93, 86, 29, 41, 67, 15]\n",
            "Удаление элемента с помощью индексации\n",
            "Новое A3=  [93, 42, 82, 54, 82, 85, 69, 13, 16]\n"
          ]
        }
      ]
    }
  ]
}