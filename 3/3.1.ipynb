{
  "nbformat": 4,
  "nbformat_minor": 0,
  "metadata": {
    "colab": {
      "provenance": []
    },
    "kernelspec": {
      "name": "python3",
      "display_name": "Python 3"
    },
    "language_info": {
      "name": "python"
    }
  },
  "cells": [
    {
      "cell_type": "code",
      "source": [
        "# Задача 3.1.\n",
        "class randomaizer1():\n",
        " def randomaizer2(self): # Создаю функцию, которая рандомно создает n цифр\n",
        "  from random import randint\n",
        "  n=10  # число цифр в строке\n",
        "  rand_list=[]\n",
        "  for i in range(n):\n",
        "   rand_list.append(randint(10,99))\n",
        "  return  rand_list\n"
      ],
      "metadata": {
        "id": "vNxCxLK6VZch"
      },
      "execution_count": 119,
      "outputs": []
    },
    {
      "cell_type": "code",
      "source": [
        "A1=randomaizer1().randomaizer2()\n",
        "A2=randomaizer1().randomaizer2()\n",
        "A3=randomaizer1().randomaizer2()\n",
        "print(\"A1= \",A1)\n",
        "print(\"A2= \",A2)\n",
        "print(\"A3= \",A3)\n",
        "\n",
        "print('число колонок = ',10)\n",
        "print('число строк = ',3)\n",
        "\n",
        "# Замена значения из списка с помощью индексации\n",
        "A1[0]=65\n",
        "print(\"Замена значения из списка с помощью индексации\")\n",
        "print(\"Новое A1= \", A1)\n",
        "\n",
        "# Добавление элемента вконец списка\n",
        "A2.append(15)\n",
        "print(\"Добавление элемента вконец списка\")\n",
        "print(\"Новое A2= \", A2)\n",
        "\n",
        "# Удаление элемента с помощью индексации\n",
        "A3.pop(0)\n",
        "print(\"Удаление элемента с помощью индексации\")\n",
        "print(\"Новое A3= \", A3)"
      ],
      "metadata": {
        "colab": {
          "base_uri": "https://localhost:8080/"
        },
        "id": "-1ATgGLyl8Xu",
        "outputId": "dc12332f-ba50-4fd4-f59c-2bf750cf3dee"
      },
      "execution_count": 123,
      "outputs": [
        {
          "output_type": "stream",
          "name": "stdout",
          "text": [
            "A1=  [47, 58, 99, 30, 77, 50, 73, 50, 16, 88]\n",
            "A2=  [58, 22, 81, 93, 57, 42, 26, 57, 69, 23]\n",
            "A3=  [53, 53, 44, 19, 83, 64, 45, 16, 29, 11]\n",
            "число колонок =  10\n",
            "число строк =  3\n",
            "Замена значения из списка с помощью индексации\n",
            "Новое A1=  [65, 58, 99, 30, 77, 50, 73, 50, 16, 88]\n",
            "Добавление элемента вконец списка\n",
            "Новое A2=  [58, 22, 81, 93, 57, 42, 26, 57, 69, 23, 15]\n",
            "Удаление элемента с помощью индексации\n",
            "Новое A3=  [53, 44, 19, 83, 64, 45, 16, 29, 11]\n"
          ]
        }
      ]
    }
  ]
}