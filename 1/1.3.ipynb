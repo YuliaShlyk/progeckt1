{
  "nbformat": 4,
  "nbformat_minor": 0,
  "metadata": {
    "colab": {
      "provenance": []
    },
    "kernelspec": {
      "name": "python3",
      "display_name": "Python 3"
    },
    "language_info": {
      "name": "python"
    }
  },
  "cells": [
    {
      "cell_type": "code",
      "execution_count": 27,
      "metadata": {
        "colab": {
          "base_uri": "https://localhost:8080/"
        },
        "id": "FNv4pOQzDiMO",
        "outputId": "408cdb4a-3f2a-4dce-c4e1-44c84ca7a889"
      },
      "outputs": [
        {
          "output_type": "stream",
          "name": "stdout",
          "text": [
            "Введите год  татппр\n",
            "Вы ввели текс или не целое число или отрицательное или знаки\n",
            "Введите год еще раз онконоен\n",
            "Вы ввели текс или не целое число или отрицательное или знаки\n",
            "Введите год еще раз рекноен\n",
            "Вы ввели текс или не целое число или отрицательное или знаки\n",
            "Введите год еще раз 2000\n",
            "Введите месяц  5\n",
            "вы ввели май в нем 31 дней\n"
          ]
        }
      ],
      "source": [
        "import datetime, calendar\n",
        "year=input('Введите год  ')\n",
        "while year.isdigit()==False: \n",
        "      print('Вы ввели текс или не целое число или отрицательное или знаки')\n",
        "      year=input('Введите год еще раз ')\n",
        "month=input('Введите месяц  ')\n",
        "while month.isdigit()==False or int(month)>12 or int(month)==0:\n",
        "       print('Вы ввели текс или не целое число или отрицательное или знаки или больше 12 или ноль')\n",
        "       month=input('Введите месяц еще раз ')\n",
        "else:\n",
        "        mes = {\n",
        "    '1':'Январь',\n",
        "    '2':'Февраль',\n",
        "    '3':'март',\n",
        "    '4':'апрель',\n",
        "    '5':'май',\n",
        "    '6':'июнь',\n",
        "    '7':'июль',\n",
        "    '8':'август',\n",
        "    '9':'сентябрь',\n",
        "   '10':'октябрь',\n",
        "   '11':'ноябрь',\n",
        "   '12':'декабрь',\n",
        "                 }\n",
        "v= mes[month]\n",
        "d=calendar.monthrange(int(year),int(month))[1] # Вывожу дни в выбранном году и месяце\n",
        "print('вы ввели',v,'в нем',d, 'дней')\n"
      ]
    }
  ]
}