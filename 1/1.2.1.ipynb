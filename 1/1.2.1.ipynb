{
  "nbformat": 4,
  "nbformat_minor": 0,
  "metadata": {
    "colab": {
      "provenance": []
    },
    "kernelspec": {
      "name": "python3",
      "display_name": "Python 3"
    },
    "language_info": {
      "name": "python"
    }
  },
  "cells": [
    {
      "cell_type": "code",
      "execution_count": 15,
      "metadata": {
        "colab": {
          "base_uri": "https://localhost:8080/"
        },
        "id": "4hBN-bWLWfSS",
        "outputId": "d8a4a490-41bb-459b-da72-aeaacc76a803"
      },
      "outputs": [
        {
          "output_type": "stream",
          "name": "stdout",
          "text": [
            "[['In This World', 242], ['New Salvation', 242], ['Nowhere to Run', 178]]\n",
            "662 секунды\n",
            "Три песни звучат 11 минут 2 секунд\n",
            "00:11:02\n"
          ]
        }
      ],
      "source": [
        "# Задание пункта А\n",
        "my_favorite_songs = [\n",
        "    ['Waste a Moment', 183],\n",
        "    ['New Salvation', 242],\n",
        "    ['Staying\\' Alive', 220],\n",
        "    ['Out of Touch', 183],\n",
        "    ['A Sorta Fairytale', 328],\n",
        "    ['Easy', 255],\n",
        "    ['Beautiful Day', 244],\n",
        "    ['Nowhere to Run', 178],\n",
        "    ['In This World', 242],\n",
        "]\n",
        "import random\n",
        "a=random.sample(my_favorite_songs, k=3) # Вывожу песню и ее длительность в секундах\n",
        "print(a)\n",
        "T1=a[0][1]+a[1][1]+a[2][1] # Складваю время длительности 3-х песен в секундах\n",
        "print(T1,'секунды')\n",
        "min1=T1//60 # расчет минут\n",
        "sec1=T1 % 60 # расчет секунд\n",
        "print('Три песни звучат',min1,'минут',sec1,'секунд')\n",
        "\n",
        "import datetime\n",
        "z1=datetime.time(0,min1,sec1)\n",
        "print(z1)\n"
      ]
    },
    {
      "cell_type": "code",
      "source": [
        "# Задание пункта В\n",
        "my_favorite_songs_dict = {\n",
        "    'Waste a Moment': 183,\n",
        "    'New Salvation': 242,\n",
        "    'Staying\\' Alive': 220,\n",
        "    'Out of Touch': 183,\n",
        "    'A Sorta Fairytale': 328,\n",
        "    'Easy': 255,\n",
        "    'Beautiful Day': 244,\n",
        "    'Nowhere to Run': 178,\n",
        "    'In This World': 242,\n",
        "}\n",
        "import random\n",
        "# Вывожу названия песен\n",
        "b=random.choice(list(my_favorite_songs_dict))\n",
        "h=random.choice(list(my_favorite_songs_dict))\n",
        "m=random.choice(list(my_favorite_songs_dict))\n",
        "print(b,h,m)\n",
        "# Вывожу длительность песен\n",
        "j=my_favorite_songs_dict[b]\n",
        "t=my_favorite_songs_dict[h]\n",
        "r=my_favorite_songs_dict[m]\n",
        "T2=j+t+r # Складываю длительность песен в секундах\n",
        "print(T2,'секунды')\n",
        "min2=T2//60 # расчет минут\n",
        "sec2=T2 % 60 # расчет секунд\n",
        "print('Три песни звучат',min2,'минут',sec2,'секунд')\n",
        "\n",
        "import datetime\n",
        "z2=datetime.time(0,min2,sec2)\n",
        "print(z2)\n",
        "\n"
      ],
      "metadata": {
        "colab": {
          "base_uri": "https://localhost:8080/"
        },
        "id": "hx53dIZ2qZlY",
        "outputId": "d6876642-3897-4bf3-9dee-57960bf85535"
      },
      "execution_count": 16,
      "outputs": [
        {
          "output_type": "stream",
          "name": "stdout",
          "text": [
            "In This World Nowhere to Run In This World\n",
            "662 секунды\n",
            "Три песни звучат 11 минут 2 секунд\n",
            "00:11:02\n"
          ]
        }
      ]
    },
    {
      "cell_type": "code",
      "source": [],
      "metadata": {
        "id": "6O3dMtNo05rX"
      },
      "execution_count": null,
      "outputs": []
    }
  ]
}