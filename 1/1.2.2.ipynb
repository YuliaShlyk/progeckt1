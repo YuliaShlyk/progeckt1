{
  "nbformat": 4,
  "nbformat_minor": 0,
  "metadata": {
    "colab": {
      "provenance": []
    },
    "kernelspec": {
      "name": "python3",
      "display_name": "Python 3"
    },
    "language_info": {
      "name": "python"
    }
  },
  "cells": [
    {
      "cell_type": "code",
      "execution_count": 8,
      "metadata": {
        "colab": {
          "base_uri": "https://localhost:8080/"
        },
        "id": "581sgr1Yptz-",
        "outputId": "45d56751-c710-4bff-d385-8ff4e572ba2e"
      },
      "outputs": [
        {
          "output_type": "stream",
          "name": "stdout",
          "text": [
            "[['Nowhere to Run', 2.58], [\"Staying' Alive\", 3.4], ['Waste a Moment', 3.03]]\n",
            "Три песни звучат 9 минут 0 секунд\n",
            "00:09:00\n"
          ]
        }
      ],
      "source": [
        "# Задание пункта А\n",
        "my_favorite_songs = [\n",
        "    ['Waste a Moment', 3.03],\n",
        "    ['New Salvation', 4.02],\n",
        "    ['Staying\\' Alive', 3.40],\n",
        "    ['Out of Touch', 3.03],\n",
        "    ['A Sorta Fairytale', 5.28],\n",
        "    ['Easy', 4.15],\n",
        "    ['Beautiful Day', 4.04],\n",
        "    ['Nowhere to Run', 2.58],\n",
        "    ['In This World', 4.02],\n",
        "]\n",
        "import random\n",
        "a=random.sample(my_favorite_songs, k=3) # Вывожу песню и ее длительность в секундах\n",
        "print(a)\n",
        "T11=int(((a[0][1]+a[1][1]+a[2][1])%1)*100) # секунды 3 песен\n",
        "if T11>59:\n",
        "  d1=T11//60\n",
        "  T12=int(a[0][1]+a[1][1]+a[2][1]//1)+d1\n",
        "  T11=T11%60\n",
        "else:\n",
        "  T12=int((a[0][1]+a[1][1]+a[2][1])//1) # минуты 3 песен\n",
        "print('Три песни звучат',T12,'минут',T11,'секунд')\n",
        "import datetime\n",
        "z1=datetime.time(0,T12,T11)\n",
        "print(z1)\n"
      ]
    },
    {
      "cell_type": "code",
      "source": [
        "# Задание пункта В\n",
        "my_favorite_songs_dict = {\n",
        "    'Waste a Moment': 3.03,\n",
        "    'New Salvation': 4.02,\n",
        "    'Staying\\' Alive': 3.40,\n",
        "    'Out of Touch': 3.03,\n",
        "    'A Sorta Fairytale': 5.28,\n",
        "    'Easy': 4.15,\n",
        "    'Beautiful Day': 4.04,\n",
        "    'Nowhere to Run': 2.58,\n",
        "    'In This World': 4.02,\n",
        "}\n",
        "import random\n",
        "# Вывожу названия песен\n",
        "b=random.choice(list(my_favorite_songs_dict))\n",
        "h=random.choice(list(my_favorite_songs_dict))\n",
        "m=random.choice(list(my_favorite_songs_dict))\n",
        "print(b,h,m)\n",
        "# Вывожу длительность песен\n",
        "j=my_favorite_songs_dict[b]\n",
        "t=my_favorite_songs_dict[h]\n",
        "r=my_favorite_songs_dict[m]\n",
        "print(j,t,r)\n",
        "T21=int((j%1+t%1+r%1)*100) # расчет секунд\n",
        "if T21>59:\n",
        "    d2=T21//60\n",
        "    T22=int(j//1+t//1+r//1)+d2\n",
        "    T21=T21%60\n",
        "else: \n",
        "    T22=int(j//1+t//1+r//1) # расчет минут\n",
        "print('Три песни звучат',T22,'минут',T21,'секунд')\n",
        "import datetime\n",
        "z2=datetime.time(0,T22,T21) \n",
        "print(z2)\n"
      ],
      "metadata": {
        "colab": {
          "base_uri": "https://localhost:8080/"
        },
        "id": "EGOuAc162RMO",
        "outputId": "50e2131f-94d0-4576-96f3-d28d9ad0ddab"
      },
      "execution_count": 9,
      "outputs": [
        {
          "output_type": "stream",
          "name": "stdout",
          "text": [
            "Out of Touch Nowhere to Run A Sorta Fairytale\n",
            "3.03 2.58 5.28\n",
            "Три песни звучат 11 минут 29 секунд\n",
            "00:11:29\n"
          ]
        }
      ]
    }
  ]
}