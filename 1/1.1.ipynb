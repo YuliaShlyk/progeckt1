{
  "nbformat": 4,
  "nbformat_minor": 0,
  "metadata": {
    "colab": {
      "provenance": []
    },
    "kernelspec": {
      "name": "python3",
      "display_name": "Python 3"
    },
    "language_info": {
      "name": "python"
    }
  },
  "cells": [
    {
      "cell_type": "code",
      "execution_count": null,
      "metadata": {
        "colab": {
          "base_uri": "https://localhost:8080/",
          "height": 35
        },
        "id": "4NwYdsdaeIs_",
        "outputId": "34c9aab6-cf14-4f8b-b3e2-ff9b899a4680"
      },
      "outputs": [
        {
          "output_type": "execute_result",
          "data": {
            "text/plain": [
              "'Waste a Momen New Salvation Start Me Up'"
            ],
            "application/vnd.google.colaboratory.intrinsic+json": {
              "type": "string"
            }
          },
          "metadata": {},
          "execution_count": 27
        }
      ],
      "source": [
        "# 1 Вариант решения\n",
        "my_favorite_songs = 'Waste a Moment, Staying Alive, A Sorta Fairytale, Start Me Up, New Salvation'\n",
        "my_favorite_songs[0:13]+' '+my_favorite_songs[-13:]+' '+my_favorite_songs[-26:-15]\n"
      ]
    },
    {
      "cell_type": "code",
      "source": [
        "# 2 Вариант решения\n",
        "my_favorite_songs = 'Waste a Moment', 'Staying Alive', 'A Sorta Fairytale', 'Start Me Up', 'New Salvation'\n",
        "my_favorite_songs[0]+' '+my_favorite_songs[-1]+' '+my_favorite_songs[-2]"
      ],
      "metadata": {
        "id": "sNKHZrDxiG3r",
        "outputId": "c8ddb1b6-87a7-4637-f1be-3c821a1f986a",
        "colab": {
          "base_uri": "https://localhost:8080/",
          "height": 35
        }
      },
      "execution_count": null,
      "outputs": [
        {
          "output_type": "execute_result",
          "data": {
            "text/plain": [
              "'Waste a Moment New Salvation Start Me Up'"
            ],
            "application/vnd.google.colaboratory.intrinsic+json": {
              "type": "string"
            }
          },
          "metadata": {},
          "execution_count": 1
        }
      ]
    }
  ]
}