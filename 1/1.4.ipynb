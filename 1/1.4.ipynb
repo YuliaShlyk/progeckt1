{
  "nbformat": 4,
  "nbformat_minor": 0,
  "metadata": {
    "colab": {
      "provenance": []
    },
    "kernelspec": {
      "name": "python3",
      "display_name": "Python 3"
    },
    "language_info": {
      "name": "python"
    }
  },
  "cells": [
    {
      "cell_type": "code",
      "execution_count": 26,
      "metadata": {
        "id": "DohEMONZH4Ro",
        "colab": {
          "base_uri": "https://localhost:8080/"
        },
        "outputId": "7e764ab2-0b22-4193-fd95-fde1109fe7db"
      },
      "outputs": [
        {
          "output_type": "stream",
          "name": "stdout",
          "text": [
            "СПИСОК ИЗДЕЛИЙ:\n",
            "Кроссовки тип 3 (Adidas); Мячик тип 2 (Adidas); Кепка тип 1 (Adidas); Ремень тип 2 (Nike); Футболка тип 1 (Adidas); Шапка тип 5 (Puma)\n",
            "Введите название изделия Мячик тип 2 (Adidas)\n",
            "Мячик тип 2 (Adidas) - 14 шт, стоимость 93 руб\n"
          ]
        }
      ],
      "source": [
        "titles = {\n",
        "    'Кроссовки тип 3 (Adidas)': '100000110',\n",
        "    'Мячик тип 2 (Adidas)': '100000146',\n",
        "    'Кепка тип 1 (Adidas)': '100000149',\n",
        "    'Ремень тип 2 (Nike)': '100000194',\n",
        "    'Футболка тип 1 (Adidas)': '100000224',\n",
        "    'Шапка тип 5 (Puma)': '100000280',\n",
        "}\n",
        "print('СПИСОК ИЗДЕЛИЙ:')\n",
        "print('Кроссовки тип 3 (Adidas); Мячик тип 2 (Adidas); Кепка тип 1 (Adidas); Ремень тип 2 (Nike); Футболка тип 1 (Adidas); Шапка тип 5 (Puma)') \n",
        "\n",
        "izdel=input('Введите название изделия ')\n",
        "  \n",
        "cod=titles[izdel] #получаю код изделия\n",
        "\n",
        "store = {\n",
        "    '100000110': [{'quantity': 31, 'price': 1637}],\n",
        "    '100000146': [ {'quantity': 4, 'price': 45}, {'quantity': 10, 'price': 48}],\n",
        "    '100000149': [ {'quantity': 28, 'price': 279}, {'quantity': 32, 'price': 291}],\n",
        "    '100000194': [{'quantity': 8, 'price': 220}, {'quantity': 1, 'price': 170}],\n",
        "    '100000224': [{'quantity': 61, 'price': 438}, {'quantity': 23, 'price': 302},  {'quantity': 50, 'price': 412}],\n",
        "    '100000280': [{'quantity': 26, 'price': 175}, ]\n",
        "}\n",
        "a=store[cod] # получаю список кл-ва и цены\n",
        "sum_price=0\n",
        "sum_quantity=0\n",
        "for i in a:\n",
        "  b=i['price']\n",
        "  sum_price +=b # получаю общую цену\n",
        "  k=i['quantity']\n",
        "  sum_quantity +=k # получаю общее кол-во\n",
        "print(f\"{izdel} - {sum_quantity} шт, стоимость {sum_price} руб\")\n"
      ]
    }
  ]
}