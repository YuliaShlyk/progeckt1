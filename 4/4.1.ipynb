{
  "nbformat": 4,
  "nbformat_minor": 0,
  "metadata": {
    "colab": {
      "provenance": []
    },
    "kernelspec": {
      "name": "python3",
      "display_name": "Python 3"
    },
    "language_info": {
      "name": "python"
    }
  },
  "cells": [
    {
      "cell_type": "code",
      "execution_count": 4,
      "metadata": {
        "id": "XGQ41MDqwMS6"
      },
      "outputs": [],
      "source": [
        "import sqlite3\n",
        "# Создание 1 таблицы\n",
        "connection = sqlite3.connect('teachers.db')\n",
        "cursor= connection.cursor()\n",
        "query = \"\"\" CREATE TABLE School (\n",
        "  School_Id INTEGER NOT NULL PRIMARY KEY,\n",
        "  School_Name TEXT NOT NULL,\n",
        "  Place_Count INTEGER NOT NULL);\"\"\"\n",
        "cursor.execute(query)\n",
        "connection.commit()\n",
        "connection.close()"
      ]
    },
    {
      "cell_type": "code",
      "source": [
        "import sqlite3\n",
        "# Наполнене 1 таблицы\n",
        "connection = sqlite3.connect('teachers.db')\n",
        "cursor= connection.cursor()\n",
        "query = \"\"\" INSERT INTO School (School_Id , School_Name , Place_Count)\n",
        "  VALUES\n",
        "('1', 'Протон', 200),\n",
        "('2', 'Преспектива', 300),\n",
        "('3', 'Спектр', 400),\n",
        "('4', 'Cодружество', 500);\"\"\"\n",
        "cursor.execute(query)\n",
        "connection.commit()\n",
        "connection.close()"
      ],
      "metadata": {
        "id": "y18ZrONK3nF3"
      },
      "execution_count": 5,
      "outputs": []
    },
    {
      "cell_type": "code",
      "source": [
        "import sqlite3\n",
        "# Создание 2 таблицы\n",
        "connection = sqlite3.connect('teachers.db')\n",
        "cursor= connection.cursor()\n",
        "query = \"\"\" CREATE TABLE Teacher (\n",
        "Teacher_Id INTEGER NOT NULL PRIMARY KEY,\n",
        "Teacher_Name TEXT NOT NULL,\n",
        "School_Id INTEGER NOT NULL,\n",
        "Joining_Date TEXT NOT NULL,\n",
        "Speciality TEXT NOT NULL,\n",
        "Salary INTEGER NOT NULL,\n",
        "Experience INTEGER);\"\"\"\n",
        "cursor.execute(query)\n",
        "connection.commit()\n",
        "connection.close()"
      ],
      "metadata": {
        "id": "p6eSjtYT7Sum"
      },
      "execution_count": 6,
      "outputs": []
    },
    {
      "cell_type": "code",
      "source": [
        "import sqlite3\n",
        "# Наполнение 2 таблицы\n",
        "connection = sqlite3.connect('teachers.db')\n",
        "cursor= connection.cursor()\n",
        "query = \"\"\" INSERT INTO Teacher (Teacher_Id, Teacher_Name, School_Id, Joining_Date, Speciality, Salary, Experience)\n",
        "VALUES\n",
        "('101', 'Галина', '1', '2021-2-10', 'Физик', '40000', NULL),\n",
        "('102', 'Мария', '1', '2018-07-23', 'Химик', '20000', NULL),\n",
        "('103', 'Ольга', '2', '2022-05-19', 'Информатик', '25000', NULL),\n",
        "('104', 'Полина', '2', '2017-12-28', 'Физик ', '28000', NULL),\n",
        "('105', 'Лидия', '3', '2015-06-04', 'Информатик', '42000', NULL),\n",
        "('106', 'Анастасия', '3', '2019-09-11', 'Учитель трудов', '30000', NULL),\n",
        "('107', 'Ирина', '4', '2020-08-21', 'Информатик', '32000', NULL),\n",
        "('108', 'Виктория', '4', '2017-10-17', 'Географ', '30000', NULL);\"\"\"\n",
        "cursor.execute(query)\n",
        "connection.commit()\n",
        "connection.close()"
      ],
      "metadata": {
        "id": "TvuEKqBnDV4Q"
      },
      "execution_count": 7,
      "outputs": []
    },
    {
      "cell_type": "code",
      "source": [
        "# Вывод данных по школе\n",
        "import sqlite3\n",
        "\n",
        "def get_connection():\n",
        "  connection = sqlite3.connect('teachers.db')\n",
        "  return connection\n",
        "\n",
        "def close_connection(connection):\n",
        "  if connection:\n",
        "    connection.close()\n",
        "\n",
        "def get_school(school_id):\n",
        "  try:\n",
        "    connection = get_connection()\n",
        "    cursor = connection.cursor()\n",
        "    query = \"\"\"SELECT * FROM School WHERE School_Id = ?\"\"\"\n",
        "    cursor.execute(query,(school_id,))\n",
        "    records = cursor.fetchall()\n",
        "    print (\"Данные по школе:\")\n",
        "    for row in records:\n",
        "      print (\"ID школы:\", row[0])\n",
        "      print (\"Название школы:\", row[1])\n",
        "    close_connection(connection)\n",
        "  except (Exception, sqlite3.Error) as error:\n",
        "    print ('Ошибка в получении данных ', error)\n",
        "\n",
        "get_school(2)   #Cюда вводим 1,2,3,4"
      ],
      "metadata": {
        "colab": {
          "base_uri": "https://localhost:8080/"
        },
        "id": "H5UzUxeZL9Rj",
        "outputId": "f79c4bee-34ef-4d5f-f4b5-89cc8d2569f0"
      },
      "execution_count": 37,
      "outputs": [
        {
          "output_type": "stream",
          "name": "stdout",
          "text": [
            "Данные по школе:\n",
            "ID школы: 2\n",
            "Название школы: Преспектива\n"
          ]
        }
      ]
    },
    {
      "cell_type": "code",
      "source": [
        "import sqlite3\n",
        "# Создание Students таблицы\n",
        "connection = sqlite3.connect('teachers.db')\n",
        "cursor= connection.cursor()\n",
        "query = \"\"\" CREATE TABLE Students (\n",
        "Student_Id Integer NOT NULL,\n",
        " Student_Name Text NOT NULL,\n",
        " School_Id Integer NOT NULL PRIMARY KEY);\"\"\"\n",
        "cursor.execute(query)\n",
        "connection.commit()\n",
        "connection.close()"
      ],
      "metadata": {
        "id": "RoU0tuU_MyF6"
      },
      "execution_count": 2,
      "outputs": []
    },
    {
      "cell_type": "code",
      "source": [
        "import sqlite3\n",
        "# Наполнение Students таблицы\n",
        "connection = sqlite3.connect('teachers.db')\n",
        "cursor= connection.cursor()\n",
        "query = \"\"\" INSERT INTO Students ( Student_Id, Student_Name, School_Id)\n",
        "VALUES\n",
        "('201', 'Иван', '1'),\n",
        "('202', 'Петр', '2'),\n",
        "('203', 'Анастасия', '3'),\n",
        "('204', 'Игорь', '4');\"\"\"\n",
        "cursor.execute(query)\n",
        "connection.commit()\n",
        "connection.close()"
      ],
      "metadata": {
        "id": "Uj3l9nlGqQHE"
      },
      "execution_count": 3,
      "outputs": []
    },
    {
      "cell_type": "code",
      "source": [
        "# Вывод данных по студенту\n",
        "import sqlite3\n",
        "\n",
        "def get_connection():\n",
        "  connection = sqlite3.connect('teachers.db')\n",
        "  return connection\n",
        "\n",
        "def close_connection(connection):\n",
        "  if connection:\n",
        "    connection.close()\n",
        "\n",
        "def get_stady(Student_Id):\n",
        "  try:\n",
        "    connection = get_connection()\n",
        "    cursor = connection.cursor()\n",
        "    query = \"\"\"SELECT * FROM Students WHERE Student_Id = ?\"\"\"\n",
        "    cursor.execute(query,(Student_Id,))\n",
        "    records = cursor.fetchall()\n",
        "    print (\"Данные студента:\")\n",
        "    for а in records:\n",
        "      print (\"ID студента:\", а[0])\n",
        "      print (\"Имя студента:\", а[1])\n",
        "    close_connection(connection)\n",
        "  except (Exception, sqlite3.Error) as error:\n",
        "    print ('Ошибка в получении данных ', error)\n",
        "\n",
        "get_stady(203)   #Cюда вводим 201, 202, 203, 204"
      ],
      "metadata": {
        "colab": {
          "base_uri": "https://localhost:8080/"
        },
        "id": "iICC9O90rqIH",
        "outputId": "a18e3e16-fcff-4c86-9e5e-495dc1b6552b"
      },
      "execution_count": 6,
      "outputs": [
        {
          "output_type": "stream",
          "name": "stdout",
          "text": [
            "Данные студента:\n",
            "ID студента: 203\n",
            "Имя студента: Анастасия\n"
          ]
        }
      ]
    }
  ]
}